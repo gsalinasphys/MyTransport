{
 "cells": [
  {
   "cell_type": "markdown",
   "metadata": {},
   "source": [
    "Calculating covariant derivatives:"
   ]
  },
  {
   "cell_type": "code",
   "execution_count": 16,
   "metadata": {},
   "outputs": [],
   "source": [
    "import numpy as np\n",
    "from sympy import symbols, cos, sin, sqrt, tanh, atanh, atan2\n",
    "from sympy.diffgeom import (Manifold, Patch, CoordSystem, BaseCovarDerivativeOp, CovarDerivativeOp, TensorProduct as TP,\n",
    "metric_to_Christoffel_2nd, metric_to_Christoffel_1st, twoform_to_matrix)\n",
    "from sympy.utilities import lambdify"
   ]
  },
  {
   "cell_type": "code",
   "execution_count": 2,
   "metadata": {},
   "outputs": [],
   "source": [
    "m = Manifold('M', 2)\n",
    "p = Patch('P', m)"
   ]
  },
  {
   "cell_type": "code",
   "execution_count": 3,
   "metadata": {},
   "outputs": [],
   "source": [
    "phi, chi = symbols('phi chi', real=True)\n",
    "r, psi, theta = symbols('r psi theta', real=True, nonnegative=True)\n",
    "alpha, mphi, R = symbols('alpha m_phi R', real=True, nonnegative=True)"
   ]
  },
  {
   "cell_type": "code",
   "execution_count": 4,
   "metadata": {},
   "outputs": [],
   "source": [
    "relation_dict = {('PhiChi', 'Pol'): [(phi, chi), (sqrt(phi**2 + chi**2), atan2(chi, phi))],\n",
    "                ('Pol', 'PhiChi'): [(r, theta), (r*cos(theta), r*sin(theta))],\n",
    "                ('Pol', 'Canoni'): [(r, theta), (sqrt(6*alpha)*atanh(r), theta)],\n",
    "                ('Canoni', 'Pol'): [(psi, theta), (tanh(psi/sqrt(6*alpha)), theta)]}"
   ]
  },
  {
   "cell_type": "code",
   "execution_count": 5,
   "metadata": {},
   "outputs": [],
   "source": [
    "R2_phichi = CoordSystem('PhiChi', p, (phi, chi), relation_dict)\n",
    "R2_polar = CoordSystem('Pol', p, (r, theta), relation_dict)\n",
    "R2_canonical = CoordSystem('Canoni', p, (psi, theta), relation_dict)"
   ]
  },
  {
   "cell_type": "code",
   "execution_count": 6,
   "metadata": {},
   "outputs": [],
   "source": [
    "fphi, fchi = R2_phichi.base_scalars()\n",
    "e_phi, e_chi = R2_phichi.base_vectors()\n",
    "dphi, dchi = R2_phichi.base_oneforms()"
   ]
  },
  {
   "cell_type": "code",
   "execution_count": 7,
   "metadata": {},
   "outputs": [],
   "source": [
    "metric = 6*alpha / (1 - fphi**2 - fchi**2)**2 * (TP(dphi, dphi) + TP(dchi, dchi))"
   ]
  },
  {
   "cell_type": "code",
   "execution_count": 20,
   "metadata": {},
   "outputs": [
    {
     "data": {
      "text/plain": [
       "array([[0.01, 0.  ],\n",
       "       [0.  , 0.01]])"
      ]
     },
     "execution_count": 20,
     "metadata": {},
     "output_type": "execute_result"
    }
   ],
   "source": [
    "lambdify([phi, chi], twoform_to_matrix(metric).subs(alpha, 1/600))(1,1)"
   ]
  },
  {
   "cell_type": "code",
   "execution_count": 13,
   "metadata": {},
   "outputs": [
    {
     "data": {
      "text/latex": [
       "$\\displaystyle \\left[\\begin{matrix}\\left[\\begin{matrix}- \\frac{2 \\mathbf{\\phi}}{\\mathbf{\\phi}^{2} + \\mathbf{\\chi}^{2} - 1} & - \\frac{2 \\mathbf{\\chi}}{\\mathbf{\\phi}^{2} + \\mathbf{\\chi}^{2} - 1}\\\\- \\frac{2 \\mathbf{\\chi}}{\\mathbf{\\phi}^{2} + \\mathbf{\\chi}^{2} - 1} & \\frac{2 \\mathbf{\\phi}}{\\mathbf{\\phi}^{2} + \\mathbf{\\chi}^{2} - 1}\\end{matrix}\\right] & \\left[\\begin{matrix}\\frac{2 \\mathbf{\\chi}}{\\mathbf{\\phi}^{2} + \\mathbf{\\chi}^{2} - 1} & - \\frac{2 \\mathbf{\\phi}}{\\mathbf{\\phi}^{2} + \\mathbf{\\chi}^{2} - 1}\\\\- \\frac{2 \\mathbf{\\phi}}{\\mathbf{\\phi}^{2} + \\mathbf{\\chi}^{2} - 1} & - \\frac{2 \\mathbf{\\chi}}{\\mathbf{\\phi}^{2} + \\mathbf{\\chi}^{2} - 1}\\end{matrix}\\right]\\end{matrix}\\right]$"
      ],
      "text/plain": [
       "[[[-2*phi/(phi**2 + chi**2 - 1), -2*chi/(phi**2 + chi**2 - 1)], [-2*chi/(phi**2 + chi**2 - 1), 2*phi/(phi**2 + chi**2 - 1)]], [[2*chi/(phi**2 + chi**2 - 1), -2*phi/(phi**2 + chi**2 - 1)], [-2*phi/(phi**2 + chi**2 - 1), -2*chi/(phi**2 + chi**2 - 1)]]]"
      ]
     },
     "execution_count": 13,
     "metadata": {},
     "output_type": "execute_result"
    }
   ],
   "source": [
    "gamma = metric_to_Christoffel_2nd(metric)\n",
    "gamma.simplify()"
   ]
  },
  {
   "cell_type": "code",
   "execution_count": 14,
   "metadata": {},
   "outputs": [
    {
     "data": {
      "text/latex": [
       "$\\displaystyle \\left[\\begin{matrix}\\left[\\begin{matrix}- \\frac{12 \\alpha \\left(\\mathbf{\\phi}^{2} + \\mathbf{\\chi}^{2} - 1\\right) \\mathbf{\\phi}}{\\left(\\mathbf{\\phi}^{4} + 2 \\mathbf{\\phi}^{2} \\mathbf{\\chi}^{2} - 2 \\mathbf{\\phi}^{2} + \\mathbf{\\chi}^{4} - 2 \\mathbf{\\chi}^{2} + 1\\right)^{2}} & - \\frac{12 \\alpha \\left(\\mathbf{\\phi}^{2} + \\mathbf{\\chi}^{2} - 1\\right) \\mathbf{\\chi}}{\\left(\\mathbf{\\phi}^{4} + 2 \\mathbf{\\phi}^{2} \\mathbf{\\chi}^{2} - 2 \\mathbf{\\phi}^{2} + \\mathbf{\\chi}^{4} - 2 \\mathbf{\\chi}^{2} + 1\\right)^{2}}\\\\- \\frac{12 \\alpha \\left(\\mathbf{\\phi}^{2} + \\mathbf{\\chi}^{2} - 1\\right) \\mathbf{\\chi}}{\\left(\\mathbf{\\phi}^{4} + 2 \\mathbf{\\phi}^{2} \\mathbf{\\chi}^{2} - 2 \\mathbf{\\phi}^{2} + \\mathbf{\\chi}^{4} - 2 \\mathbf{\\chi}^{2} + 1\\right)^{2}} & \\frac{12 \\alpha \\left(\\mathbf{\\phi}^{2} + \\mathbf{\\chi}^{2} - 1\\right) \\mathbf{\\phi}}{\\left(\\mathbf{\\phi}^{4} + 2 \\mathbf{\\phi}^{2} \\mathbf{\\chi}^{2} - 2 \\mathbf{\\phi}^{2} + \\mathbf{\\chi}^{4} - 2 \\mathbf{\\chi}^{2} + 1\\right)^{2}}\\end{matrix}\\right] & \\left[\\begin{matrix}\\frac{12 \\alpha \\left(\\mathbf{\\phi}^{2} + \\mathbf{\\chi}^{2} - 1\\right) \\mathbf{\\chi}}{\\left(\\mathbf{\\phi}^{4} + 2 \\mathbf{\\phi}^{2} \\mathbf{\\chi}^{2} - 2 \\mathbf{\\phi}^{2} + \\mathbf{\\chi}^{4} - 2 \\mathbf{\\chi}^{2} + 1\\right)^{2}} & - \\frac{12 \\alpha \\left(\\mathbf{\\phi}^{2} + \\mathbf{\\chi}^{2} - 1\\right) \\mathbf{\\phi}}{\\left(\\mathbf{\\phi}^{4} + 2 \\mathbf{\\phi}^{2} \\mathbf{\\chi}^{2} - 2 \\mathbf{\\phi}^{2} + \\mathbf{\\chi}^{4} - 2 \\mathbf{\\chi}^{2} + 1\\right)^{2}}\\\\- \\frac{12 \\alpha \\left(\\mathbf{\\phi}^{2} + \\mathbf{\\chi}^{2} - 1\\right) \\mathbf{\\phi}}{\\left(\\mathbf{\\phi}^{4} + 2 \\mathbf{\\phi}^{2} \\mathbf{\\chi}^{2} - 2 \\mathbf{\\phi}^{2} + \\mathbf{\\chi}^{4} - 2 \\mathbf{\\chi}^{2} + 1\\right)^{2}} & - \\frac{12 \\alpha \\left(\\mathbf{\\phi}^{2} + \\mathbf{\\chi}^{2} - 1\\right) \\mathbf{\\chi}}{\\left(\\mathbf{\\phi}^{4} + 2 \\mathbf{\\phi}^{2} \\mathbf{\\chi}^{2} - 2 \\mathbf{\\phi}^{2} + \\mathbf{\\chi}^{4} - 2 \\mathbf{\\chi}^{2} + 1\\right)^{2}}\\end{matrix}\\right]\\end{matrix}\\right]$"
      ],
      "text/plain": [
       "[[[-12*alpha*(phi**2 + chi**2 - 1)*phi/(phi**4 + 2*phi**2*chi**2 - 2*phi**2 + chi**4 - 2*chi**2 + 1)**2, -12*alpha*(phi**2 + chi**2 - 1)*chi/(phi**4 + 2*phi**2*chi**2 - 2*phi**2 + chi**4 - 2*chi**2 + 1)**2], [-12*alpha*(phi**2 + chi**2 - 1)*chi/(phi**4 + 2*phi**2*chi**2 - 2*phi**2 + chi**4 - 2*chi**2 + 1)**2, 12*alpha*(phi**2 + chi**2 - 1)*phi/(phi**4 + 2*phi**2*chi**2 - 2*phi**2 + chi**4 - 2*chi**2 + 1)**2]], [[12*alpha*(phi**2 + chi**2 - 1)*chi/(phi**4 + 2*phi**2*chi**2 - 2*phi**2 + chi**4 - 2*chi**2 + 1)**2, -12*alpha*(phi**2 + chi**2 - 1)*phi/(phi**4 + 2*phi**2*chi**2 - 2*phi**2 + chi**4 - 2*chi**2 + 1)**2], [-12*alpha*(phi**2 + chi**2 - 1)*phi/(phi**4 + 2*phi**2*chi**2 - 2*phi**2 + chi**4 - 2*chi**2 + 1)**2, -12*alpha*(phi**2 + chi**2 - 1)*chi/(phi**4 + 2*phi**2*chi**2 - 2*phi**2 + chi**4 - 2*chi**2 + 1)**2]]]"
      ]
     },
     "execution_count": 14,
     "metadata": {},
     "output_type": "execute_result"
    }
   ],
   "source": [
    "gamma = metric_to_Christoffel_1st(metric)\n",
    "gamma.simplify()"
   ]
  },
  {
   "cell_type": "code",
   "execution_count": 15,
   "metadata": {},
   "outputs": [],
   "source": [
    "def gamma_to_np(gamma, coord_symbs):\n",
    "    return lambdify(coord_symbs, gamma)"
   ]
  },
  {
   "cell_type": "code",
   "execution_count": 16,
   "metadata": {},
   "outputs": [
    {
     "data": {
      "text/plain": [
       "[[[-1.0, -1.0], [-1.0, 1.0]], [[1.0, -1.0], [-1.0, -1.0]]]"
      ]
     },
     "execution_count": 16,
     "metadata": {},
     "output_type": "execute_result"
    }
   ],
   "source": [
    "gamma_to_np(gamma, [phi, chi])(1, 1)"
   ]
  },
  {
   "cell_type": "code",
   "execution_count": 28,
   "metadata": {},
   "outputs": [
    {
     "data": {
      "text/plain": [
       "[BaseCovarDerivativeOp(PhiChi, 0, [[[phi/(-phi**2 - chi**2 + 1), chi/(-phi**2 - chi**2 + 1)], [chi/(-phi**2 - chi**2 + 1), -phi/(-phi**2 - chi**2 + 1)]], [[-chi/(-phi**2 - chi**2 + 1), phi/(-phi**2 - chi**2 + 1)], [phi/(-phi**2 - chi**2 + 1), chi/(-phi**2 - chi**2 + 1)]]]),\n",
       " BaseCovarDerivativeOp(PhiChi, 1, [[[phi/(-phi**2 - chi**2 + 1), chi/(-phi**2 - chi**2 + 1)], [chi/(-phi**2 - chi**2 + 1), -phi/(-phi**2 - chi**2 + 1)]], [[-chi/(-phi**2 - chi**2 + 1), phi/(-phi**2 - chi**2 + 1)], [phi/(-phi**2 - chi**2 + 1), chi/(-phi**2 - chi**2 + 1)]]])]"
      ]
     },
     "execution_count": 28,
     "metadata": {},
     "output_type": "execute_result"
    }
   ],
   "source": [
    "cvds = [BaseCovarDerivativeOp(R2_phichi, 0, gamma), BaseCovarDerivativeOp(R2_phichi, 1, gamma)]\n",
    "cvds"
   ]
  },
  {
   "cell_type": "markdown",
   "metadata": {},
   "source": [
    "Return covariant derivatives of a vector as a Python function:"
   ]
  },
  {
   "cell_type": "code",
   "execution_count": 138,
   "metadata": {},
   "outputs": [],
   "source": [
    "def nabla_vec(coords, covar_derivs, vector):\n",
    "    cvds_expr = [[covar_derivs[ii](vector).rcall(coords[jj]) for jj in range(len(coords))] for ii in range(len(covar_derivs))]\n",
    "    return lambdify([phi, chi], cvds_expr)"
   ]
  },
  {
   "cell_type": "code",
   "execution_count": 141,
   "metadata": {},
   "outputs": [
    {
     "data": {
      "text/plain": [
       "[[-1.0, 1.0], [-1.0, -1.0]]"
      ]
     },
     "execution_count": 141,
     "metadata": {},
     "output_type": "execute_result"
    }
   ],
   "source": [
    "nabla_vec([fphi, fchi], cvds, e_phi)(1, 1)"
   ]
  },
  {
   "cell_type": "code",
   "execution_count": 135,
   "metadata": {},
   "outputs": [
    {
     "data": {
      "text/plain": [
       "array([[20., 20.],\n",
       "       [20., 20.]])"
      ]
     },
     "execution_count": 135,
     "metadata": {},
     "output_type": "execute_result"
    }
   ],
   "source": [
    "np.gradient(np.array([[1,2], [3,4]]), 0.1, axis=0)"
   ]
  },
  {
   "cell_type": "code",
   "execution_count": 206,
   "metadata": {},
   "outputs": [],
   "source": [
    "def nabla_i_vec(vectors: np.ndarray, gamma_vals: np.ndarray, i: int, dN: float) -> np.ndarray:\n",
    "    return np.gradient(vectors, dN, axis=0)[i] \\\n",
    "        + np.array([[gamma_vals[jj, 0, i, 0] * vectors[jj, 0] + gamma_vals[jj, 0, i, 1] * vectors[jj, 1],\n",
    "                    gamma_vals[jj, 1, i, 0] * vectors[jj, 0] + gamma_vals[jj, 1, i, 1] * vectors[jj, 1]]\n",
    "                    for jj in range(len(vectors))])\n",
    "\n",
    "def nabla_vec(vectors: np.ndarray, gamma_vals: np.ndarray, dN: float) -> np.ndarray:\n",
    "    return np.append(nabla_i_vec(vectors, gamma_vals, 0, dN),\n",
    "                    nabla_i_vec(vectors, gamma_vals, 1, dN),\n",
    "                    axis=1).reshape(len(vectors), 2, 2)"
   ]
  },
  {
   "cell_type": "code",
   "execution_count": 207,
   "metadata": {},
   "outputs": [
    {
     "data": {
      "text/plain": [
       "array([[[[-1., -1.],\n",
       "         [-1.,  1.]],\n",
       "\n",
       "        [[ 1., -1.],\n",
       "         [-1., -1.]]],\n",
       "\n",
       "\n",
       "       [[[-1., -1.],\n",
       "         [-1.,  1.]],\n",
       "\n",
       "        [[ 1., -1.],\n",
       "         [-1., -1.]]],\n",
       "\n",
       "\n",
       "       [[[-1., -1.],\n",
       "         [-1.,  1.]],\n",
       "\n",
       "        [[ 1., -1.],\n",
       "         [-1., -1.]]]])"
      ]
     },
     "execution_count": 207,
     "metadata": {},
     "output_type": "execute_result"
    }
   ],
   "source": [
    "gamma_vals = np.array(gamma_to_np(gamma, [phi, chi])(1, 1))\n",
    "gamma_vals = np.array([gamma_vals, gamma_vals, gamma_vals])\n",
    "gamma_vals"
   ]
  },
  {
   "cell_type": "code",
   "execution_count": 208,
   "metadata": {},
   "outputs": [
    {
     "data": {
      "text/plain": [
       "array([[-1.,  1.],\n",
       "       [-1.,  1.],\n",
       "       [-1.,  1.]])"
      ]
     },
     "execution_count": 208,
     "metadata": {},
     "output_type": "execute_result"
    }
   ],
   "source": [
    "vectors = np.array([[1, 0], [1, 0], [1, 0]])\n",
    "nabla_i_vec(vectors, gamma_vals, 0, 1)"
   ]
  },
  {
   "cell_type": "code",
   "execution_count": 209,
   "metadata": {},
   "outputs": [
    {
     "data": {
      "text/plain": [
       "array([[-1., -1.],\n",
       "       [-1., -1.],\n",
       "       [-1., -1.]])"
      ]
     },
     "execution_count": 209,
     "metadata": {},
     "output_type": "execute_result"
    }
   ],
   "source": [
    "nabla_i_vec(vectors, gamma_vals, 1, 1)"
   ]
  },
  {
   "cell_type": "code",
   "execution_count": 210,
   "metadata": {},
   "outputs": [
    {
     "data": {
      "text/plain": [
       "array([[[-1.,  1.],\n",
       "        [-1., -1.]],\n",
       "\n",
       "       [[-1.,  1.],\n",
       "        [-1., -1.]],\n",
       "\n",
       "       [[-1.,  1.],\n",
       "        [-1., -1.]]])"
      ]
     },
     "execution_count": 210,
     "metadata": {},
     "output_type": "execute_result"
    }
   ],
   "source": [
    "nabla_vec(vectors, gamma_vals, 1.)"
   ]
  },
  {
   "cell_type": "markdown",
   "metadata": {},
   "source": [
    "Return covariant derivative of a vector with respect to the number of e-folds:"
   ]
  },
  {
   "cell_type": "code",
   "execution_count": 191,
   "metadata": {},
   "outputs": [],
   "source": [
    "def DN_vector(nablavec: np.ndarray, phi_primes: np.ndarray) -> np.ndarray:\n",
    "    return np.array([phi_primes[ii, 0]*nablavec[ii, 0] + phi_primes[ii, 1] * nablavec[ii, 1] for ii in range(len(phi_primes))])"
   ]
  },
  {
   "cell_type": "code",
   "execution_count": 192,
   "metadata": {},
   "outputs": [],
   "source": [
    "phi_primes = np.array([[1, 0], [1, 0], [1, 0]])"
   ]
  },
  {
   "cell_type": "code",
   "execution_count": 193,
   "metadata": {},
   "outputs": [
    {
     "data": {
      "text/plain": [
       "array([[-1.,  1.],\n",
       "       [-1.,  1.],\n",
       "       [-1.,  1.]])"
      ]
     },
     "execution_count": 193,
     "metadata": {},
     "output_type": "execute_result"
    }
   ],
   "source": [
    "DN_vector(nabla_vec(vectors, gamma_vals, 1), phi_primes)"
   ]
  },
  {
   "cell_type": "code",
   "execution_count": 118,
   "metadata": {},
   "outputs": [
    {
     "data": {
      "text/plain": [
       "array([[-1.,  0.],\n",
       "       [ 1., -1.]])"
      ]
     },
     "execution_count": 118,
     "metadata": {},
     "output_type": "execute_result"
    }
   ],
   "source": [
    "nablavec = np.array(nabla_vec([fphi, fchi], cvds, fphi*e_chi)(1, 1))\n",
    "nablavec"
   ]
  },
  {
   "cell_type": "code",
   "execution_count": 119,
   "metadata": {},
   "outputs": [
    {
     "data": {
      "text/plain": [
       "array([[-1.,  0.],\n",
       "       [ 0., -0.]])"
      ]
     },
     "execution_count": 119,
     "metadata": {},
     "output_type": "execute_result"
    }
   ],
   "source": [
    "phi_primes = np.array([1., 0])\n",
    "DN_vector(nablavec, phi_primes)"
   ]
  },
  {
   "cell_type": "code",
   "execution_count": 120,
   "metadata": {},
   "outputs": [],
   "source": [
    "def array_to_sympy(v: np.ndarray, base_vs):\n",
    "    return sum([v[ii] * base_vs[ii] for ii in range(len(v))])"
   ]
  },
  {
   "cell_type": "code",
   "execution_count": 121,
   "metadata": {},
   "outputs": [
    {
     "data": {
      "text/latex": [
       "$\\displaystyle \\partial_{\\phi}$"
      ],
      "text/plain": [
       "e_phi"
      ]
     },
     "execution_count": 121,
     "metadata": {},
     "output_type": "execute_result"
    }
   ],
   "source": [
    "array_to_sympy([1, 0], [e_phi, e_chi])"
   ]
  },
  {
   "cell_type": "code",
   "execution_count": null,
   "metadata": {},
   "outputs": [],
   "source": []
  }
 ],
 "metadata": {
  "kernelspec": {
   "display_name": "Python 3.8.10 64-bit",
   "language": "python",
   "name": "python3"
  },
  "language_info": {
   "codemirror_mode": {
    "name": "ipython",
    "version": 3
   },
   "file_extension": ".py",
   "mimetype": "text/x-python",
   "name": "python",
   "nbconvert_exporter": "python",
   "pygments_lexer": "ipython3",
   "version": "3.8.10"
  },
  "orig_nbformat": 4,
  "vscode": {
   "interpreter": {
    "hash": "31f2aee4e71d21fbe5cf8b01ff0e069b9275f58929596ceb00d14d90e3e16cd6"
   }
  }
 },
 "nbformat": 4,
 "nbformat_minor": 2
}
