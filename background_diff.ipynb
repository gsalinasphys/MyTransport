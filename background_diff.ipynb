{
 "cells": [
  {
   "cell_type": "code",
   "execution_count": 48,
   "metadata": {},
   "outputs": [],
   "source": [
    "import os\n",
    "import sys\n",
    "\n",
    "import numpy as np\n",
    "import sympy\n",
    "from matplotlib import pyplot as plt\n",
    "from sympy import atan2, atanh, cos, sin, sqrt, symbols, tanh, Matrix\n",
    "from sympy.diffgeom import (BaseCovarDerivativeOp, CoordSystem,\n",
    "                            CovarDerivativeOp, Manifold, Patch,\n",
    "                            metric_to_Christoffel_2nd, twoform_to_matrix)\n",
    "from sympy.diffgeom import TensorProduct as TP\n",
    "from sympy.utilities import lambdify\n",
    "\n",
    "location = \"/home/gsalinas/GitHub/MyTransport/PyTransport\" # This should be the location of the PyTransport folder folder\n",
    "sys.path.append(location) # Sets up python path to give access to PyTransSetup\n",
    "\n",
    "import PyTransSetup\n",
    "\n",
    "PyTransSetup.pathSet()  # This adds the other paths that PyTransport uses to the python path\n",
    "\n",
    "import PyTransAngular as PyT\n",
    "import PyTransScripts as PyS"
   ]
  },
  {
   "cell_type": "code",
   "execution_count": 29,
   "metadata": {},
   "outputs": [],
   "source": [
    "m = Manifold('M', 2)\n",
    "p = Patch('P', m)"
   ]
  },
  {
   "cell_type": "code",
   "execution_count": 76,
   "metadata": {},
   "outputs": [],
   "source": [
    "phi, chi = symbols('phi chi', real=True)\n",
    "r, psi, theta = symbols('r psi theta', real=True, nonnegative=True)\n",
    "params = symbols('alpha R m_phi', real=True, nonnegative=True)"
   ]
  },
  {
   "cell_type": "code",
   "execution_count": 98,
   "metadata": {},
   "outputs": [],
   "source": [
    "fields = symbols('r theta', real=True, nonnegative=True)\n",
    "params = symbols('alpha R m_phi', real=True, nonnegative=True)\n",
    "\n",
    "f = sympy.symarray('f', len(fields))\n",
    "p = sympy.symarray('p', len(params))\n",
    "\n",
    "dict_fields = dict(zip(fields, f))\n",
    "dict_params = dict(zip(params, p))\n",
    "dict_combined = {**dict_params, **dict_fields}"
   ]
  },
  {
   "cell_type": "code",
   "execution_count": 31,
   "metadata": {},
   "outputs": [],
   "source": [
    "relation_dict = {('PhiChi', 'Pol'): [(phi, chi), (sqrt(phi**2 + chi**2), atan2(chi, phi))],\n",
    "                ('Pol', 'PhiChi'): [(r, theta), (r*cos(theta), r*sin(theta))],\n",
    "                ('Pol', 'Canoni'): [(r, theta), (sqrt(6*alpha)*atanh(r), theta)],\n",
    "                ('Canoni', 'Pol'): [(psi, theta), (tanh(psi/sqrt(6*alpha)), theta)]}"
   ]
  },
  {
   "cell_type": "code",
   "execution_count": 32,
   "metadata": {},
   "outputs": [],
   "source": [
    "R2_phichi = CoordSystem('PhiChi', p, (phi, chi), relation_dict)\n",
    "R2_polar = CoordSystem('Pol', p, (r, theta), relation_dict)\n",
    "R2_canonical = CoordSystem('Canoni', p, (psi, theta), relation_dict)"
   ]
  },
  {
   "cell_type": "code",
   "execution_count": 41,
   "metadata": {},
   "outputs": [],
   "source": [
    "fphi, fchi = R2_phichi.base_scalars()\n",
    "e_phi, e_chi = R2_phichi.base_vectors()\n",
    "dphi, dchi = R2_phichi.base_oneforms()\n",
    "\n",
    "fr, ftheta = R2_polar.base_scalars()\n",
    "e_r, e_theta = R2_polar.base_vectors()\n",
    "dr, dtheta = R2_polar.base_oneforms()\n",
    "\n",
    "fpsi, fthetac = R2_canonical.base_scalars()\n",
    "e_psi, e_thetac = R2_canonical.base_vectors()\n",
    "dpsi, dthetac = R2_canonical.base_oneforms()"
   ]
  },
  {
   "cell_type": "code",
   "execution_count": 50,
   "metadata": {},
   "outputs": [
    {
     "data": {
      "text/latex": [
       "$\\displaystyle \\frac{6 \\alpha \\left(\\operatorname{d}\\phi \\otimes \\operatorname{d}\\phi + \\operatorname{d}\\chi \\otimes \\operatorname{d}\\chi\\right)}{\\left(- \\mathbf{\\phi}^{2} - \\mathbf{\\chi}^{2} + 1\\right)^{2}}$"
      ],
      "text/plain": [
       "6*alpha*(TensorProduct(dphi, dphi) + TensorProduct(dchi, dchi))/(-phi**2 - chi**2 + 1)**2"
      ]
     },
     "execution_count": 50,
     "metadata": {},
     "output_type": "execute_result"
    }
   ],
   "source": [
    "metric = 6*alpha / (1 - fphi**2 - fchi**2)**2 * (TP(dphi, dphi) + TP(dchi, dchi))\n",
    "metric"
   ]
  },
  {
   "cell_type": "code",
   "execution_count": 51,
   "metadata": {},
   "outputs": [
    {
     "data": {
      "text/latex": [
       "$\\displaystyle \\left[\\begin{matrix}\\frac{6 \\alpha}{\\mathbf{\\phi}^{4} + 2 \\mathbf{\\phi}^{2} \\mathbf{\\chi}^{2} - 2 \\mathbf{\\phi}^{2} + \\mathbf{\\chi}^{4} - 2 \\mathbf{\\chi}^{2} + 1} & 0\\\\0 & \\frac{6 \\alpha}{\\mathbf{\\phi}^{4} + 2 \\mathbf{\\phi}^{2} \\mathbf{\\chi}^{2} - 2 \\mathbf{\\phi}^{2} + \\mathbf{\\chi}^{4} - 2 \\mathbf{\\chi}^{2} + 1}\\end{matrix}\\right]$"
      ],
      "text/plain": [
       "Matrix([\n",
       "[6*alpha/(phi**4 + 2*phi**2*chi**2 - 2*phi**2 + chi**4 - 2*chi**2 + 1),                                                                     0],\n",
       "[                                                                    0, 6*alpha/(phi**4 + 2*phi**2*chi**2 - 2*phi**2 + chi**4 - 2*chi**2 + 1)]])"
      ]
     },
     "execution_count": 51,
     "metadata": {},
     "output_type": "execute_result"
    }
   ],
   "source": [
    "twoform_to_matrix(metric)"
   ]
  },
  {
   "cell_type": "code",
   "execution_count": 52,
   "metadata": {},
   "outputs": [
    {
     "data": {
      "text/latex": [
       "$\\displaystyle \\left[\\begin{matrix}\\left[\\begin{matrix}\\frac{- 4 \\mathbf{\\phi}^{3} - 4 \\mathbf{\\phi} \\mathbf{\\chi}^{2} + 4 \\mathbf{\\phi}}{2 \\left(\\mathbf{\\phi}^{4} + 2 \\mathbf{\\phi}^{2} \\mathbf{\\chi}^{2} - 2 \\mathbf{\\phi}^{2} + \\mathbf{\\chi}^{4} - 2 \\mathbf{\\chi}^{2} + 1\\right)} & \\frac{- 4 \\mathbf{\\phi}^{2} \\mathbf{\\chi} - 4 \\mathbf{\\chi}^{3} + 4 \\mathbf{\\chi}}{2 \\left(\\mathbf{\\phi}^{4} + 2 \\mathbf{\\phi}^{2} \\mathbf{\\chi}^{2} - 2 \\mathbf{\\phi}^{2} + \\mathbf{\\chi}^{4} - 2 \\mathbf{\\chi}^{2} + 1\\right)}\\\\\\frac{- 4 \\mathbf{\\phi}^{2} \\mathbf{\\chi} - 4 \\mathbf{\\chi}^{3} + 4 \\mathbf{\\chi}}{2 \\left(\\mathbf{\\phi}^{4} + 2 \\mathbf{\\phi}^{2} \\mathbf{\\chi}^{2} - 2 \\mathbf{\\phi}^{2} + \\mathbf{\\chi}^{4} - 2 \\mathbf{\\chi}^{2} + 1\\right)} & - \\frac{- 4 \\mathbf{\\phi}^{3} - 4 \\mathbf{\\phi} \\mathbf{\\chi}^{2} + 4 \\mathbf{\\phi}}{2 \\left(\\mathbf{\\phi}^{4} + 2 \\mathbf{\\phi}^{2} \\mathbf{\\chi}^{2} - 2 \\mathbf{\\phi}^{2} + \\mathbf{\\chi}^{4} - 2 \\mathbf{\\chi}^{2} + 1\\right)}\\end{matrix}\\right] & \\left[\\begin{matrix}- \\frac{- 4 \\mathbf{\\phi}^{2} \\mathbf{\\chi} - 4 \\mathbf{\\chi}^{3} + 4 \\mathbf{\\chi}}{2 \\left(\\mathbf{\\phi}^{4} + 2 \\mathbf{\\phi}^{2} \\mathbf{\\chi}^{2} - 2 \\mathbf{\\phi}^{2} + \\mathbf{\\chi}^{4} - 2 \\mathbf{\\chi}^{2} + 1\\right)} & \\frac{- 4 \\mathbf{\\phi}^{3} - 4 \\mathbf{\\phi} \\mathbf{\\chi}^{2} + 4 \\mathbf{\\phi}}{2 \\left(\\mathbf{\\phi}^{4} + 2 \\mathbf{\\phi}^{2} \\mathbf{\\chi}^{2} - 2 \\mathbf{\\phi}^{2} + \\mathbf{\\chi}^{4} - 2 \\mathbf{\\chi}^{2} + 1\\right)}\\\\\\frac{- 4 \\mathbf{\\phi}^{3} - 4 \\mathbf{\\phi} \\mathbf{\\chi}^{2} + 4 \\mathbf{\\phi}}{2 \\left(\\mathbf{\\phi}^{4} + 2 \\mathbf{\\phi}^{2} \\mathbf{\\chi}^{2} - 2 \\mathbf{\\phi}^{2} + \\mathbf{\\chi}^{4} - 2 \\mathbf{\\chi}^{2} + 1\\right)} & \\frac{- 4 \\mathbf{\\phi}^{2} \\mathbf{\\chi} - 4 \\mathbf{\\chi}^{3} + 4 \\mathbf{\\chi}}{2 \\left(\\mathbf{\\phi}^{4} + 2 \\mathbf{\\phi}^{2} \\mathbf{\\chi}^{2} - 2 \\mathbf{\\phi}^{2} + \\mathbf{\\chi}^{4} - 2 \\mathbf{\\chi}^{2} + 1\\right)}\\end{matrix}\\right]\\end{matrix}\\right]$"
      ],
      "text/plain": [
       "[[[(-4*phi**3 - 4*phi*chi**2 + 4*phi)/(2*(phi**4 + 2*phi**2*chi**2 - 2*phi**2 + chi**4 - 2*chi**2 + 1)), (-4*phi**2*chi - 4*chi**3 + 4*chi)/(2*(phi**4 + 2*phi**2*chi**2 - 2*phi**2 + chi**4 - 2*chi**2 + 1))], [(-4*phi**2*chi - 4*chi**3 + 4*chi)/(2*(phi**4 + 2*phi**2*chi**2 - 2*phi**2 + chi**4 - 2*chi**2 + 1)), -(-4*phi**3 - 4*phi*chi**2 + 4*phi)/(2*(phi**4 + 2*phi**2*chi**2 - 2*phi**2 + chi**4 - 2*chi**2 + 1))]], [[-(-4*phi**2*chi - 4*chi**3 + 4*chi)/(2*(phi**4 + 2*phi**2*chi**2 - 2*phi**2 + chi**4 - 2*chi**2 + 1)), (-4*phi**3 - 4*phi*chi**2 + 4*phi)/(2*(phi**4 + 2*phi**2*chi**2 - 2*phi**2 + chi**4 - 2*chi**2 + 1))], [(-4*phi**3 - 4*phi*chi**2 + 4*phi)/(2*(phi**4 + 2*phi**2*chi**2 - 2*phi**2 + chi**4 - 2*chi**2 + 1)), (-4*phi**2*chi - 4*chi**3 + 4*chi)/(2*(phi**4 + 2*phi**2*chi**2 - 2*phi**2 + chi**4 - 2*chi**2 + 1))]]]"
      ]
     },
     "execution_count": 52,
     "metadata": {},
     "output_type": "execute_result"
    }
   ],
   "source": [
    "gamma = metric_to_Christoffel_2nd(metric)\n",
    "gamma"
   ]
  },
  {
   "cell_type": "code",
   "execution_count": 53,
   "metadata": {},
   "outputs": [
    {
     "data": {
      "text/latex": [
       "$\\displaystyle \\frac{6 \\alpha \\left(\\mathbf{r}^{2} \\operatorname{d}\\theta \\otimes \\operatorname{d}\\theta + \\operatorname{d}r \\otimes \\operatorname{d}r\\right)}{\\left(1 - \\mathbf{r}^{2}\\right)^{2}}$"
      ],
      "text/plain": [
       "6*alpha*(r**2*TensorProduct(dtheta, dtheta) + TensorProduct(dr, dr))/(1 - r**2)**2"
      ]
     },
     "execution_count": 53,
     "metadata": {},
     "output_type": "execute_result"
    }
   ],
   "source": [
    "metric_polar = 6*alpha / (1 - fr**2)**2 * (TP(dr, dr) + fr**2*TP(dtheta, dtheta))\n",
    "metric_polar"
   ]
  },
  {
   "cell_type": "code",
   "execution_count": 102,
   "metadata": {},
   "outputs": [
    {
     "data": {
      "text/latex": [
       "$\\displaystyle \\left[\\begin{matrix}\\frac{6 \\alpha}{\\mathbf{r}^{4} - 2 \\mathbf{r}^{2} + 1} & 0\\\\0 & \\frac{6 \\alpha \\mathbf{r}^{2}}{\\mathbf{r}^{4} - 2 \\mathbf{r}^{2} + 1}\\end{matrix}\\right]$"
      ],
      "text/plain": [
       "Matrix([\n",
       "[6*alpha/(r**4 - 2*r**2 + 1),                                0],\n",
       "[                          0, 6*alpha*r**2/(r**4 - 2*r**2 + 1)]])"
      ]
     },
     "execution_count": 102,
     "metadata": {},
     "output_type": "execute_result"
    }
   ],
   "source": [
    "twoform_to_matrix(metric_polar).simplify()"
   ]
  },
  {
   "cell_type": "code",
   "execution_count": 83,
   "metadata": {},
   "outputs": [
    {
     "data": {
      "text/plain": [
       "'Matrix([[6*alpha/(r**4 - 2*r**2 + 1), 0], [0, 6*alpha*r**2/(r**4 - 2*r**2 + 1)]])'"
      ]
     },
     "execution_count": 83,
     "metadata": {},
     "output_type": "execute_result"
    }
   ],
   "source": [
    "str(twoform_to_matrix(metric_polar))"
   ]
  },
  {
   "cell_type": "code",
   "execution_count": 72,
   "metadata": {},
   "outputs": [],
   "source": [
    "import pickle\n",
    "\n",
    "expr = twoform_to_matrix(metric_polar)\n",
    "with open(\"G.txt\", \"wb\") as outf:\n",
    "    pickle.dump(expr, outf)"
   ]
  },
  {
   "cell_type": "code",
   "execution_count": 73,
   "metadata": {},
   "outputs": [
    {
     "name": "stdout",
     "output_type": "stream",
     "text": [
      "Matrix([[6*alpha/(r**4 - 2*r**2 + 1), 0], [0, 6*alpha*r**2/(r**4 - 2*r**2 + 1)]])\n"
     ]
    }
   ],
   "source": [
    "with open('G.txt','rb') as f:\n",
    "    print(pickle.load(f))"
   ]
  },
  {
   "cell_type": "code",
   "execution_count": 56,
   "metadata": {},
   "outputs": [
    {
     "data": {
      "text/latex": [
       "$\\displaystyle \\left[\\begin{matrix}\\left[\\begin{matrix}- \\frac{2 \\mathbf{r}}{\\mathbf{r}^{2} - 1} & 0\\\\0 & \\frac{\\mathbf{r}^{3} + \\mathbf{r}}{\\mathbf{r}^{2} - 1}\\end{matrix}\\right] & \\left[\\begin{matrix}0 & - \\frac{\\mathbf{r}^{2} + 1}{\\mathbf{r}^{3} - \\mathbf{r}}\\\\- \\frac{\\mathbf{r}^{2} + 1}{\\mathbf{r}^{3} - \\mathbf{r}} & 0\\end{matrix}\\right]\\end{matrix}\\right]$"
      ],
      "text/plain": [
       "[[[-2*r/(r**2 - 1), 0], [0, (r**3 + r)/(r**2 - 1)]], [[0, -(r**2 + 1)/(r**3 - r)], [-(r**2 + 1)/(r**3 - r), 0]]]"
      ]
     },
     "execution_count": 56,
     "metadata": {},
     "output_type": "execute_result"
    }
   ],
   "source": [
    "gamma_polar = metric_to_Christoffel_2nd(metric_polar)\n",
    "gamma_polar.simplify()"
   ]
  },
  {
   "cell_type": "code",
   "execution_count": 92,
   "metadata": {},
   "outputs": [
    {
     "data": {
      "text/latex": [
       "$\\displaystyle \\left[\\begin{matrix}\\frac{6 p_{0}}{\\left(1 - f_{0}^{2}\\right)^{2}} & 0\\\\0 & \\frac{6 p_{0}}{\\left(1 - f_{0}^{2}\\right)^{2}}\\end{matrix}\\right]$"
      ],
      "text/plain": [
       "Matrix([\n",
       "[6*p_0/(1 - f_0**2)**2,                     0],\n",
       "[                    0, 6*p_0/(1 - f_0**2)**2]])"
      ]
     },
     "execution_count": 92,
     "metadata": {},
     "output_type": "execute_result"
    }
   ],
   "source": [
    "nF = 2  # number of fields\n",
    "nP = 3  # number of parameters\n",
    "f = sympy.symarray('f',nF)   # an array representing the nF fields present for this model [phi, chi]\n",
    "p = sympy.symarray('p',nP)   # an array representing the nP parameters needed to define this model, format [alpha, R, mphi] \n",
    "\n",
    "V = p[0]/2 * p[2]**2 * (f[0]**2 * cos(f[1])**2 + p[1]*f[0]**2 * sin(f[1])**2 )   # this is the potential written in sympy notation\n",
    "G = 6*p[0]/(1-f[0]**2)**2 * Matrix([[1, 0], [0, 1]]) # this is the field metric written in sympy notation\n",
    "G"
   ]
  },
  {
   "cell_type": "code",
   "execution_count": 100,
   "metadata": {},
   "outputs": [
    {
     "data": {
      "text/latex": [
       "$\\displaystyle \\frac{\\alpha m_{\\phi}^{2} r^{2} \\left(R \\sin^{2}{\\left(\\theta \\right)} + \\cos^{2}{\\left(\\theta \\right)}\\right)}{2}$"
      ],
      "text/plain": [
       "alpha*m_phi**2*r**2*(R*sin(theta)**2 + cos(theta)**2)/2"
      ]
     },
     "execution_count": 100,
     "metadata": {},
     "output_type": "execute_result"
    }
   ],
   "source": [
    "V = alpha/2 * mphi**2 * r**2 * (cos(theta)**2 + R*sin(theta)**2)\n",
    "V"
   ]
  },
  {
   "cell_type": "code",
   "execution_count": 101,
   "metadata": {},
   "outputs": [
    {
     "data": {
      "text/latex": [
       "$\\displaystyle \\frac{f_{0}^{2} p_{0} p_{2}^{2} \\left(p_{1} \\sin^{2}{\\left(f_{1} \\right)} + \\cos^{2}{\\left(f_{1} \\right)}\\right)}{2}$"
      ],
      "text/plain": [
       "f_0**2*p_0*p_2**2*(p_1*sin(f_1)**2 + cos(f_1)**2)/2"
      ]
     },
     "execution_count": 101,
     "metadata": {},
     "output_type": "execute_result"
    }
   ],
   "source": [
    "V.subs(dict_combined)"
   ]
  },
  {
   "cell_type": "code",
   "execution_count": 93,
   "metadata": {},
   "outputs": [
    {
     "data": {
      "text/latex": [
       "$\\displaystyle \\frac{p_{0} p_{2}^{2} \\left(f_{0}^{2} p_{1} \\sin^{2}{\\left(f_{1} \\right)} + f_{0}^{2} \\cos^{2}{\\left(f_{1} \\right)}\\right)}{2}$"
      ],
      "text/plain": [
       "p_0*p_2**2*(f_0**2*p_1*sin(f_1)**2 + f_0**2*cos(f_1)**2)/2"
      ]
     },
     "execution_count": 93,
     "metadata": {},
     "output_type": "execute_result"
    }
   ],
   "source": [
    "V"
   ]
  },
  {
   "cell_type": "code",
   "execution_count": 96,
   "metadata": {},
   "outputs": [
    {
     "ename": "TypeError",
     "evalue": "unsupported operand type(s) for |: 'dict' and 'dict'",
     "output_type": "error",
     "traceback": [
      "\u001b[0;31m---------------------------------------------------------------------------\u001b[0m",
      "\u001b[0;31mTypeError\u001b[0m                                 Traceback (most recent call last)",
      "\u001b[1;32m/home/gsalinas/GitHub/MyTransport/background_diff.ipynb Cell 21\u001b[0m in \u001b[0;36m<cell line: 1>\u001b[0;34m()\u001b[0m\n\u001b[0;32m----> <a href='vscode-notebook-cell:/home/gsalinas/GitHub/MyTransport/background_diff.ipynb#X43sZmlsZQ%3D%3D?line=0'>1</a>\u001b[0m dict_params \u001b[39m|\u001b[39;49m dict_fields\n",
      "\u001b[0;31mTypeError\u001b[0m: unsupported operand type(s) for |: 'dict' and 'dict'"
     ]
    }
   ],
   "source": [
    "dict_params | dict_fields"
   ]
  },
  {
   "cell_type": "code",
   "execution_count": 97,
   "metadata": {},
   "outputs": [
    {
     "data": {
      "text/plain": [
       "{alpha: p_0, R: p_1, m_phi: p_2, r: f_0, theta: f_1}"
      ]
     },
     "execution_count": 97,
     "metadata": {},
     "output_type": "execute_result"
    }
   ],
   "source": [
    "{**dict_params, **dict_fields}"
   ]
  },
  {
   "cell_type": "code",
   "execution_count": null,
   "metadata": {},
   "outputs": [],
   "source": []
  }
 ],
 "metadata": {
  "kernelspec": {
   "display_name": "Python 3.8.10 64-bit",
   "language": "python",
   "name": "python3"
  },
  "language_info": {
   "codemirror_mode": {
    "name": "ipython",
    "version": 3
   },
   "file_extension": ".py",
   "mimetype": "text/x-python",
   "name": "python",
   "nbconvert_exporter": "python",
   "pygments_lexer": "ipython3",
   "version": "3.8.10"
  },
  "orig_nbformat": 4,
  "vscode": {
   "interpreter": {
    "hash": "31f2aee4e71d21fbe5cf8b01ff0e069b9275f58929596ceb00d14d90e3e16cd6"
   }
  }
 },
 "nbformat": 4,
 "nbformat_minor": 2
}
